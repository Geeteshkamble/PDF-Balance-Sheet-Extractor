{
 "cells": [
  {
   "cell_type": "code",
   "execution_count": 1,
   "id": "3d0cda29-143f-4802-aba9-26d837a630d9",
   "metadata": {},
   "outputs": [],
   "source": [
    "import pdfplumber\n",
    "import pandas as pdfplumber\n",
    "import re"
   ]
  },
  {
   "cell_type": "code",
   "execution_count": 2,
   "id": "c63908d0-28ab-4023-97a2-835de066677c",
   "metadata": {},
   "outputs": [],
   "source": [
    "pdf_path = \"C:/Users/kambl/Downloads/annual_report.pdf\"\n",
    "csv_output_path = \"C:/Users/kambl/Downloads/link1.csv\""
   ]
  },
  {
   "cell_type": "code",
   "execution_count": 3,
   "id": "ad7f4020-b83b-4aa8-9502-b5532c9f5472",
   "metadata": {},
   "outputs": [],
   "source": [
    "# Parameters identified from the website\n",
    "balance_sheet_parameters = [\n",
    "    \"Equity Capital\", \"Reserves\", \"Borrowings\", \"Other Liabilities\", \"Total Liabilities\",\n",
    "    \"Fixed Assets\", \"Capital Work in Progress\", \"Investments\", \"Other Assets\", \"Total Assets\"\n",
    "]\n"
   ]
  },
  {
   "cell_type": "code",
   "execution_count": 4,
   "id": "89fc998c-24df-48db-a289-f602df6aa788",
   "metadata": {},
   "outputs": [],
   "source": [
    "# Use pdfplumber to open and read PDF\n",
    "with pdfplumber.open(pdf_path) as pdf:\n",
    "    pdf_text = \"\"\n",
    "    for page in pdf.pages:\n",
    "        pdf_text += page.extract_text() + \"\\n\""
   ]
  },
  {
   "cell_type": "code",
   "execution_count": 5,
   "id": "dc118eaf-5b37-406c-8c25-bc1d2e08ef7b",
   "metadata": {},
   "outputs": [],
   "source": [
    "# Pattern dictionary to capture values\n",
    "patterns = {\n",
    "    param: re.compile(rf\"{param}.*?([0-9,]+\\.*[0-9]*)\") for param in balance_sheet_parameters\n",
    "}"
   ]
  },
  {
   "cell_type": "code",
   "execution_count": 6,
   "id": "1f6a9d25-841b-4ab7-b3de-f6ce8a7a438e",
   "metadata": {},
   "outputs": [],
   "source": [
    "# Extract data for each parameter using the patterns\n",
    "data = {\"Parameter\": [], \"Value\": []}\n",
    "for param, pattern in patterns.items():\n",
    "    match = pattern.search(pdf_text)\n",
    "    value = match.group(1).replace(\",\", \"\") if match else \"Not found\"\n",
    "    data[\"Parameter\"].append(param)\n",
    "    data[\"Value\"].append(value)"
   ]
  },
  {
   "cell_type": "code",
   "execution_count": 7,
   "id": "d53c9915-35a0-4017-a5b1-8005fd407aa6",
   "metadata": {},
   "outputs": [
    {
     "name": "stdout",
     "output_type": "stream",
     "text": [
      "CSV file 'C:/Users/kambl/Downloads/link1.csv' has been created with the extracted balance sheet data.\n"
     ]
    },
    {
     "data": {
      "text/html": [
       "<div>\n",
       "<style scoped>\n",
       "    .dataframe tbody tr th:only-of-type {\n",
       "        vertical-align: middle;\n",
       "    }\n",
       "\n",
       "    .dataframe tbody tr th {\n",
       "        vertical-align: top;\n",
       "    }\n",
       "\n",
       "    .dataframe thead th {\n",
       "        text-align: right;\n",
       "    }\n",
       "</style>\n",
       "<table border=\"1\" class=\"dataframe\">\n",
       "  <thead>\n",
       "    <tr style=\"text-align: right;\">\n",
       "      <th></th>\n",
       "      <th>Parameter</th>\n",
       "      <th>Value</th>\n",
       "    </tr>\n",
       "  </thead>\n",
       "  <tbody>\n",
       "    <tr>\n",
       "      <th>0</th>\n",
       "      <td>Equity Capital</td>\n",
       "      <td>Not found</td>\n",
       "    </tr>\n",
       "    <tr>\n",
       "      <th>1</th>\n",
       "      <td>Reserves</td>\n",
       "      <td>31</td>\n",
       "    </tr>\n",
       "    <tr>\n",
       "      <th>2</th>\n",
       "      <td>Borrowings</td>\n",
       "      <td>100.00</td>\n",
       "    </tr>\n",
       "    <tr>\n",
       "      <th>3</th>\n",
       "      <td>Other Liabilities</td>\n",
       "      <td>Not found</td>\n",
       "    </tr>\n",
       "    <tr>\n",
       "      <th>4</th>\n",
       "      <td>Total Liabilities</td>\n",
       "      <td>6690.58</td>\n",
       "    </tr>\n",
       "    <tr>\n",
       "      <th>5</th>\n",
       "      <td>Fixed Assets</td>\n",
       "      <td>7809</td>\n",
       "    </tr>\n",
       "    <tr>\n",
       "      <th>6</th>\n",
       "      <td>Capital Work in Progress</td>\n",
       "      <td>Not found</td>\n",
       "    </tr>\n",
       "    <tr>\n",
       "      <th>7</th>\n",
       "      <td>Investments</td>\n",
       "      <td></td>\n",
       "    </tr>\n",
       "    <tr>\n",
       "      <th>8</th>\n",
       "      <td>Other Assets</td>\n",
       "      <td>Not found</td>\n",
       "    </tr>\n",
       "    <tr>\n",
       "      <th>9</th>\n",
       "      <td>Total Assets</td>\n",
       "      <td>Not found</td>\n",
       "    </tr>\n",
       "  </tbody>\n",
       "</table>\n",
       "</div>"
      ],
      "text/plain": [
       "                  Parameter      Value\n",
       "0            Equity Capital  Not found\n",
       "1                  Reserves         31\n",
       "2                Borrowings     100.00\n",
       "3         Other Liabilities  Not found\n",
       "4         Total Liabilities    6690.58\n",
       "5              Fixed Assets       7809\n",
       "6  Capital Work in Progress  Not found\n",
       "7               Investments           \n",
       "8              Other Assets  Not found\n",
       "9              Total Assets  Not found"
      ]
     },
     "execution_count": 7,
     "metadata": {},
     "output_type": "execute_result"
    }
   ],
   "source": [
    "# Convert data to a DataFrame\n",
    "df = pd.DataFrame(data)\n",
    "\n",
    "# Write DataFrame to CSV\n",
    "df.to_csv(csv_output_path, index=False)\n",
    "\n",
    "print(f\"CSV file '{csv_output_path}' has been created with the extracted balance sheet data.\")\n",
    "\n",
    "# Display the DataFrame to confirm extraction\n",
    "df.head(10)\n"
   ]
  },
  {
   "cell_type": "code",
   "execution_count": null,
   "id": "3a4fdacb-0526-49d6-9d5e-7dab0db53cfc",
   "metadata": {},
   "outputs": [],
   "source": []
  }
 ],
 "metadata": {
  "kernelspec": {
   "display_name": "Python 3 (ipykernel)",
   "language": "python",
   "name": "python3"
  },
  "language_info": {
   "codemirror_mode": {
    "name": "ipython",
    "version": 3
   },
   "file_extension": ".py",
   "mimetype": "text/x-python",
   "name": "python",
   "nbconvert_exporter": "python",
   "pygments_lexer": "ipython3",
   "version": "3.12.4"
  }
 },
 "nbformat": 4,
 "nbformat_minor": 5
}
